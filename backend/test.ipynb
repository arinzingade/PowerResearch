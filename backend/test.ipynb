{
 "cells": [
  {
   "cell_type": "markdown",
   "metadata": {},
   "source": [
    "### Imports"
   ]
  },
  {
   "cell_type": "code",
   "execution_count": 1,
   "metadata": {},
   "outputs": [],
   "source": [
    "from googlesearch import search\n",
    "import yfinance as yf\n",
    "import os\n",
    "from langchain.prompts import ChatPromptTemplate\n",
    "import asyncio\n",
    "import getpass\n",
    "import os\n",
    "from datetime import datetime\n",
    "from hashlib import md5\n",
    "from typing import Dict, List\n",
    "from dotenv import load_dotenv\n",
    "import pandas as pd\n",
    "import tiktoken\n",
    "from langchain_community.graphs import Neo4jGraph\n",
    "from langchain_community.tools import WikipediaQueryRun\n",
    "from langchain_community.utilities import WikipediaAPIWrapper\n",
    "from langchain_core.prompts import ChatPromptTemplate\n",
    "from langchain_openai import ChatOpenAI\n",
    "from langchain_text_splitters import TokenTextSplitter\n",
    "from pydantic import BaseModel, Field\n",
    "load_dotenv()\n",
    "from datetime import datetime"
   ]
  },
  {
   "cell_type": "markdown",
   "metadata": {},
   "source": [
    "### Web Scraping"
   ]
  },
  {
   "cell_type": "markdown",
   "metadata": {},
   "source": [
    "Financials - Yahoo Finance"
   ]
  },
  {
   "cell_type": "code",
   "execution_count": 2,
   "metadata": {},
   "outputs": [],
   "source": [
    "ticker = input(\"What is the Ticker of the Stock?: \")\n",
    "\n",
    "stock_ticker = yf.Ticker(ticker)\n",
    "df_balancesheet = stock_ticker.balance_sheet\n",
    "balance_sheet_json = df_balancesheet.to_json()\n",
    "\n",
    "df_incomestmt = stock_ticker.income_stmt\n",
    "incomestmt_json = df_incomestmt.to_json()\n",
    "\n",
    "df_cashflow = stock_ticker.cash_flow\n",
    "cashflow_json = df_cashflow.to_json()\n"
   ]
  },
  {
   "cell_type": "markdown",
   "metadata": {},
   "source": [
    "Latest News - GoogleSearch, Latest Filings"
   ]
  },
  {
   "cell_type": "code",
   "execution_count": 3,
   "metadata": {},
   "outputs": [],
   "source": [
    "stock_name = input(\"Enter the Stock Name: \")\n",
    "def get_top_links(query, num_results=1):\n",
    "    top_10_links = []\n",
    "    search_results = search(query, num_results=num_results)\n",
    "    \n",
    "    for idx, result in enumerate(search_results, start=1):\n",
    "        top_10_links.append(result)\n",
    "    \n",
    "    return top_10_links\n",
    "\n",
    "search_news = stock_name + \"latest news\"\n",
    "search_latest_opinion = stock_name + \"latest financial analysis\"\n",
    "global_financial_news = \"Latest News Financial Markets International\"\n",
    "latest_filings = stock_name + \"Latest Legal Filings / Reporting\"\n",
    "\n",
    "top_10_news_links = get_top_links(search_news)\n",
    "top_10_blogs_links = get_top_links(search_latest_opinion)\n",
    "top_10_global_links = get_top_links(global_financial_news)\n",
    "top_10_filings_links =  get_top_links(latest_filings)\n",
    "top_10_news_links.append('https://tradingeconomics.com/stream')\n",
    "\n",
    "all_links_combined = (\n",
    "    top_10_news_links + \n",
    "    top_10_blogs_links + \n",
    "    top_10_global_links + \n",
    "    top_10_filings_links\n",
    ")"
   ]
  },
  {
   "cell_type": "code",
   "execution_count": 4,
   "metadata": {},
   "outputs": [
    {
     "data": {
      "text/plain": [
       "['https://www.apple.com/in/newsroom/',\n",
       " 'https://tradingeconomics.com/stream',\n",
       " 'https://m.in.investing.com/equities/apple-computer-inc-financial-summary',\n",
       " 'https://www.reuters.com/markets/',\n",
       " 'https://investor.apple.com/sec-filings/default.aspx']"
      ]
     },
     "execution_count": 4,
     "metadata": {},
     "output_type": "execute_result"
    }
   ],
   "source": [
    "all_links_combined"
   ]
  },
  {
   "cell_type": "markdown",
   "metadata": {},
   "source": [
    "Extracting Useful Text From Raw Scraped Text"
   ]
  },
  {
   "cell_type": "code",
   "execution_count": 5,
   "metadata": {},
   "outputs": [],
   "source": [
    "from groq import Groq\n",
    "client = Groq(\n",
    "    api_key= os.getenv('GROQ_API'),\n",
    ")\n",
    "\n",
    "PROMPT_TEMPLATE = \"\"\"\n",
    "Prompt: Extract only the useful information from the below text, \n",
    "Do not Include Links, Always include plain text full of useful maximum impact information in concise manner.\n",
    "{context}\n",
    "\"\"\"\n",
    "\n",
    "def call_groq(scraped_text_chunk):\n",
    "    chat_completion = client.chat.completions.create(\n",
    "    messages=[\n",
    "            {\n",
    "                \"role\": \"user\",\n",
    "                \"content\": scraped_text_chunk,\n",
    "            }\n",
    "        ],\n",
    "        model=\"llama3-8b-8192\",\n",
    "    )\n",
    "    return chat_completion.choices[0].message.content"
   ]
  },
  {
   "cell_type": "markdown",
   "metadata": {},
   "source": [
    "Passing it through a Web Scraper to Extract Text"
   ]
  },
  {
   "cell_type": "code",
   "execution_count": 6,
   "metadata": {},
   "outputs": [
    {
     "name": "stdout",
     "output_type": "stream",
     "text": [
      "Here is the useful information extracted from the text in plain text format:\n",
      "\n",
      "**Upcoming Apple Events:**\n",
      "\n",
      "* Apple's Swift Student Challenge to open in February 2025\n",
      "\n",
      "**New Apple Resources:**\n",
      "\n",
      "* Apple launches new resources for teachers, expands education grant program\n",
      "\n",
      "**New Apple Technology:**\n",
      "\n",
      "* iPhone 16 lineup, AirPods 4, Apple Watch Series 10 available\n",
      "* iOS 18 is available today, making iPhone more personal and capable than ever\n",
      "* macOS Sequoia is available today\n",
      "* iPadOS 18 is now available, taking iPad to the next level\n",
      "* watchOS 11 is available today\n",
      "* visionOS 2 for Apple Vision Pro is available today\n",
      "* tvOS 18 is now available\n",
      "* Apple Maps introduces new ways to explore the world\n",
      "\n",
      "**Apple Stories:**\n",
      "\n",
      "* HBCU students chart their career paths in America's Music City\n",
      "* Meet three Swift Student Challenge winners changing the future through coding\n",
      "* Five filmmakers share their worlds for MAMI Select — Filmed on iPhone\n",
      "* Apple's Restore Fund cultivates new roots in the Atlantic Forest\n",
      "\n",
      "**Other News:**\n",
      "\n",
      "* Apple debuts iPhone 16 Pro and iPhone 16 Pro Max\n",
      "* Apple introduces iPhone 16 and iPhone 16 Plus\n",
      "* Apple Intelligence comes to iPhone starting next month\n",
      "* Introducing Apple Watch Series 10\n",
      "* Apple Watch Ultra 2 now available in black titanium\n",
      "* Introducing AirPods 4 and AirPods Pro 2 hearing health\n",
      "* Apple announces Chief Financial Officer transition\n",
      "* Eight games join Apple Arcade, including Balatro+ and NBA 2K25 Arcade Edition\n",
      "Here is the useful information extracted from the text in a concise manner:\n",
      "\n",
      "**Credit Ratings**\n",
      "\n",
      "* Moody's:\n",
      "\t+ Downgraded Belgium's credit rating to negative due to deficit trajectory and political uncertainty\n",
      "\t+ Cited concerns over Belgium's debt ratios exceeding those of the euro area\n",
      "* Fitch:\n",
      "\t+ Placed France on a negative outlook due to fiscal policy risks\n",
      "\t+ Projected fiscal slippage and increased debt towards 118.5% of GDP by 2028\n",
      "\n",
      "**Stock Markets**\n",
      "\n",
      "* S&P 500 and Dow Jones hit new highs\n",
      "* JPMorgan and Wells Fargo reported strong earnings\n",
      "* Canadian Stocks Close Higher on Friday\n",
      "* Spanish Stocks End Higher, Book Weekly Gain\n",
      "* French Stocks Post Weekly Gain\n",
      "\n",
      "**Commodities**\n",
      "\n",
      "* WTI Crude Oil futures dipped 0.3% to settle at $75.5\n",
      "* Agricultural Commodities:\n",
      "\t+ Cheese prices rose 7.49%\n",
      "\t+ Orange Juice prices rose 4.44%\n",
      "\t+ Cocoa prices rose 3.23%\n",
      "* Metals Commodities:\n",
      "\t+ Copper prices rose 1.34%\n",
      "\t+ Silver prices rose 1.23%\n",
      "\t+ Platinum prices rose 1.17%\n",
      "* Energy Commodities:\n",
      "\t+ Natural gas prices dropped 1.38%\n",
      "\t+ Gasoline prices rose 0.51%\n",
      "\n",
      "**Currency**\n",
      "\n",
      "* Mexican Peso appreciated 0.89%\n",
      "* Brazilian Real depreciated 0.51%\n",
      "\n",
      "**Economy**\n",
      "\n",
      "* Russian inflation rate eased to 8.6% in September\n",
      "* Spanish inflation rate rose 0.5% in September\n",
      "* French inflation rate rose 0.3% in September\n",
      "\n",
      "**Other**\n",
      "\n",
      "* Bitcoin and Ether prices rose 4.22% and 2.53%, respectively\n",
      "Here are the useful pieces of information extracted from the text:\n",
      "\n",
      "**Company Information**\n",
      "\n",
      "* Apple Inc. (AAPL) is a US-based technology company.\n",
      "* It is listed on the NASDAQ stock exchange.\n",
      "* Its financial summaries include income statement, balance sheet, cash flow statement, and financial ratios.\n",
      "* The company reported earnings results for the third quarter and nine months ended June 29, 2024.\n",
      "\n",
      "**Financial Performance**\n",
      "\n",
      "* Revenue: $85,777 million (third quarter), $296,105 million (nine months).\n",
      "* Net income: $21,448 million (third quarter), $79,000 million (nine months).\n",
      "* Earnings per share (EPS) from continuing operations: $1.4 (third quarter), $5.13 (nine months).\n",
      "\n",
      "**Financial Ratios**\n",
      "\n",
      "* Gross margin: 45.96% (TTM)\n",
      "* Operating margin: 31.27% (TTM)\n",
      "* Net profit margin: 26.44% (TTM)\n",
      "* Return on investment (ROI): 60.73% (TTM)\n",
      "\n",
      "**Cash Flow**\n",
      "\n",
      "* Cash from operating activities: $28858 million (third quarter), $22690 million (nine months).\n",
      "* Cash from investing activities: -$127 million (third quarter), $1927 million (nine months).\n",
      "* Cash from financing activities: -$36017 million (third quarter), -$30433 million (nine months).\n",
      "\n",
      "**AAPL Comments**\n",
      "\n",
      "* Some users have commented on the stock's performance, including predictions of a breakdown in the near future and a expectation of a major breakout in the next year.\n",
      "Here is the extracted information:\n",
      "\n",
      "**Markets:**\n",
      "\n",
      "* S&P 500 index: 5,815.03 (+0.61% Positive)\n",
      "* Dow Jones Industrial Average: 42,863.86 (+0.97% Positive)\n",
      "* Euro STOXX 50: 5,003.92 (+0.68% Positive)\n",
      "* FTSE 100: 8,253.65 (+0.19% Positive)\n",
      "* Nikkei 225: 39,605.80 (+0.57% Positive)\n",
      "\n",
      "**Top News:**\n",
      "\n",
      "* The Maldives has chosen Centerview Partners to be its adviser on debt matters.\n",
      "* US stocks surged to record highs after strong bank earnings and positive inflation data.\n",
      "* The S&P 500 and Dow hit records, boosted by bank earnings.\n",
      "\n",
      "**Commodities:**\n",
      "\n",
      "* Gold: 2,655.00 (+1.31% Positive)\n",
      "* Copper: 840.10 (+0.93% Positive)\n",
      "* Brent Crude Oil: 78.79 (-0.32% Negative)\n",
      "* CBOT Soybeans: 1,005.00 (-0.96% Negative)\n",
      "\n",
      "**Currencies:**\n",
      "\n",
      "* EUR/USD: 1.0937 (+0.01% Positive)\n",
      "* GBP/USD: 1.3066 (+0.05% Positive)\n",
      "* JPY/USD: 0.0067 (-0.39% Negative)\n",
      "* CNY/USD: 0.1415 (+0.18% Positive)\n",
      "\n",
      "**Deals:**\n",
      "\n",
      "* Rio Tinto's real prize: Arcadium's lithium extraction technology\n",
      "* Tetragon in talks over possible sale of Equitix\n",
      "\n",
      "**Columnists:**\n",
      "\n",
      "* Andy Home: \"Zinc facing supply deficit as mine output falls again\"\n",
      "* Mike Dolan: \"Fed dashboard fogged by immigration uncertainty\"\n",
      "* Jamie McGeever: \"America's record 'net debtor' status enters the unknown\"\n",
      "\n",
      "**Videos:**\n",
      "\n",
      "* Market Now: \"S&P 500, Dow hit records, boosted by bank earnings\"\n",
      "\n",
      "Note that I have excluded the links and focused on providing the essential information in a concise manner. If you need any further assistance, please let me know!\n",
      "An unexpected error occurred for https://investor.apple.com/sec-filings/default.aspx: Error code: 400 - {'error': {'message': 'Please reduce the length of the messages or completion.', 'type': 'invalid_request_error', 'param': 'messages', 'code': 'context_length_exceeded'}}. Skipping...\n"
     ]
    }
   ],
   "source": [
    "from firecrawl import FirecrawlApp\n",
    "import requests \n",
    "\n",
    "app = FirecrawlApp(api_key=os.getenv('FIRECRAWL_API'))\n",
    "useful_text = []\n",
    "\n",
    "def chunk_text(text, size=50000):\n",
    "    return [text[i:i + size] for i in range(0, len(text), size)]\n",
    "\n",
    "for link in all_links_combined:\n",
    "    try:\n",
    "        scrape_result = app.scrape_url(link, params={'formats': ['markdown', 'html']})\n",
    "        large_text = scrape_result['markdown']\n",
    "        chunked_text = chunk_text(large_text)\n",
    "\n",
    "        for chunk in chunked_text:\n",
    "            prompt_template = ChatPromptTemplate.from_template(PROMPT_TEMPLATE)\n",
    "            prompt = prompt_template.format(context=chunk)\n",
    "            response_text = call_groq(prompt)\n",
    "\n",
    "            useful_text.append(response_text)\n",
    "            print(response_text)\n",
    "    \n",
    "    except requests.exceptions.HTTPError as e:\n",
    "        print(f\"Request failed for {link}: {e}. Skipping...\")\n",
    "        continue  \n",
    "    except Exception as e:\n",
    "        print(f\"An unexpected error occurred for {link}: {e}. Skipping...\")\n",
    "        continue  "
   ]
  },
  {
   "cell_type": "code",
   "execution_count": 7,
   "metadata": {},
   "outputs": [],
   "source": [
    "whole_text = \"\"\n",
    "for text in useful_text:\n",
    "    whole_text += text"
   ]
  },
  {
   "cell_type": "markdown",
   "metadata": {},
   "source": [
    "Input the Useful Scraped Data Into Neo4j"
   ]
  },
  {
   "cell_type": "code",
   "execution_count": 8,
   "metadata": {},
   "outputs": [],
   "source": [
    "useful_text_list = chunk_text(whole_text)"
   ]
  },
  {
   "cell_type": "code",
   "execution_count": 9,
   "metadata": {},
   "outputs": [
    {
     "data": {
      "text/plain": [
       "[]"
      ]
     },
     "execution_count": 9,
     "metadata": {},
     "output_type": "execute_result"
    }
   ],
   "source": [
    "from langchain_community.graphs import Neo4jGraph\n",
    "\n",
    "os.environ[\"NEO4J_URI\"] = os.getenv('NEO4J_URI')\n",
    "os.environ[\"NEO4J_USERNAME\"] = os.getenv('NEO4J_USERNAME')\n",
    "os.environ[\"NEO4J_PASSWORD\"] = os.getenv('NEO4J_PASSWORD')\n",
    "\n",
    "## Bh75snEPQV6s8St1BbjMWjHX7R9VdnSobxpWnzgY350\n",
    "\n",
    "graph = Neo4jGraph(refresh_schema=False)\n",
    "\n",
    "graph.query(\"CREATE CONSTRAINT IF NOT EXISTS FOR (c:Chunk) REQUIRE c.id IS UNIQUE\")\n",
    "graph.query(\"CREATE CONSTRAINT IF NOT EXISTS FOR (c:AtomicFact) REQUIRE c.id IS UNIQUE\")\n",
    "graph.query(\"CREATE CONSTRAINT IF NOT EXISTS FOR (c:KeyElement) REQUIRE c.id IS UNIQUE\")\n",
    "graph.query(\"CREATE CONSTRAINT IF NOT EXISTS FOR (d:Document) REQUIRE d.id IS UNIQUE\")"
   ]
  },
  {
   "cell_type": "code",
   "execution_count": 19,
   "metadata": {},
   "outputs": [],
   "source": [
    "construction_system = \"\"\"\n",
    "You are now an intelligent assistant tasked with meticulously extracting both key elements and\n",
    "atomic facts from a long text.\n",
    "1. Ensure that all identified key elements are reflected within the corresponding atomic facts.\n",
    "2. You should extract key elements and atomic facts comprehensively, especially those that are\n",
    "important and potentially query-worthy and do not leave out details.\n",
    "3. Whenever applicable, replace pronouns with their specific noun counterparts (e.g., change I, He,\n",
    "She to actual names).\n",
    "4. Ensure that the key elements and atomic facts you extract are presented in the same language as\n",
    "the original text (e.g., English or Chinese).\n",
    "\"\"\"\n",
    "\n",
    "construction_human = \"\"\"Use the given format to extract information from the \n",
    "following input: {input}\"\"\"\n",
    "\n",
    "construction_prompt = ChatPromptTemplate.from_messages(\n",
    "    [\n",
    "        (\n",
    "            \"system\",\n",
    "            construction_system,\n",
    "        ),\n",
    "        (\n",
    "            \"human\",\n",
    "            (\n",
    "                \"Use the given format to extract information from the \"\n",
    "                \"following input: {input}\"\n",
    "            ),\n",
    "        ),\n",
    "    ]\n",
    ")"
   ]
  },
  {
   "cell_type": "code",
   "execution_count": 21,
   "metadata": {},
   "outputs": [
    {
     "name": "stdout",
     "output_type": "stream",
     "text": [
      "\n",
      "You are now an intelligent assistant tasked with meticulously extracting both key elements and\n",
      "atomic facts related to {stock_name}\n",
      "1. Ensure that all identified key elements are reflected within the corresponding atomic facts.\n",
      "2. You should extract key elements and atomic facts comprehensively, especially those that are\n",
      "important and potentially query-worthy and do not leave out details.\n",
      "3. Whenever applicable, replace pronouns with their specific noun counterparts (e.g., change I, He,\n",
      "She to actual names).\n",
      "4. Ensure that the key elements and atomic facts you extract are presented in the same language as\n",
      "the original text (e.g., English or Chinese).\n",
      "\n"
     ]
    }
   ],
   "source": [
    "print(construction_system)"
   ]
  },
  {
   "cell_type": "code",
   "execution_count": 11,
   "metadata": {},
   "outputs": [],
   "source": [
    "class AtomicFact(BaseModel):\n",
    "    key_elements: List[str] = Field(description=\"\"\"The essential nouns (e.g., characters, times, events, places, numbers), verbs (e.g.,\n",
    "actions), and adjectives (e.g., states, feelings) that are pivotal to the atomic fact's narrative.\"\"\")\n",
    "    atomic_fact: str = Field(description=\"\"\"The smallest, indivisible facts, presented as concise sentences. These include\n",
    "propositions, theories, existences, concepts, and implicit elements like logic, causality, event\n",
    "sequences, interpersonal relationships, timelines, etc.\"\"\")\n",
    "\n",
    "class Extraction(BaseModel):\n",
    "    atomic_facts: List[AtomicFact] = Field(description=\"List of atomic facts\")"
   ]
  },
  {
   "cell_type": "code",
   "execution_count": 20,
   "metadata": {},
   "outputs": [],
   "source": [
    "from langchain_groq import ChatGroq\n",
    "os.environ[\"GROQ_API_KEY\"] = os.getenv('GROQ_API_KEY')\n",
    "model = ChatGroq(model=\"gemma2-9b-it\", temperature=0.1)\n",
    "structured_llm = model.with_structured_output(Extraction)\n",
    "\n",
    "construction_chain = construction_prompt | structured_llm"
   ]
  },
  {
   "cell_type": "code",
   "execution_count": 13,
   "metadata": {},
   "outputs": [],
   "source": [
    "import_query = \"\"\"\n",
    "MERGE (d:Document {id:$document_name})\n",
    "WITH d\n",
    "UNWIND $data AS row\n",
    "MERGE (c:Chunk {id: row.chunk_id})\n",
    "SET c.text = row.chunk_text,\n",
    "    c.index = row.index,\n",
    "    c.document_name = row.document_name\n",
    "MERGE (d)-[:HAS_CHUNK]->(c)\n",
    "WITH c, row\n",
    "UNWIND row.atomic_facts AS af\n",
    "MERGE (a:AtomicFact {id: af.id})\n",
    "SET a.text = af.atomic_fact\n",
    "MERGE (c)-[:HAS_ATOMIC_FACT]->(a)\n",
    "WITH c, a, af\n",
    "UNWIND af.key_elements AS ke\n",
    "MERGE (k:KeyElement {id: ke})\n",
    "MERGE (a)-[:HAS_KEY_ELEMENT]->(k)\n",
    "\"\"\"\n",
    "\n",
    "def encode_md5(text):\n",
    "    return md5(text.encode(\"utf-8\")).hexdigest()"
   ]
  },
  {
   "cell_type": "code",
   "execution_count": 14,
   "metadata": {},
   "outputs": [],
   "source": [
    "async def process_document(text, document_name, chunk_size=1000, chunk_overlap=200):\n",
    "    start = datetime.now()\n",
    "    print(f\"Started extraction at: {start}\")\n",
    "    text_splitter = TokenTextSplitter(chunk_size=chunk_size, chunk_overlap=chunk_overlap)\n",
    "    texts = text_splitter.split_text(text)\n",
    "    print(f\"Total text chunks: {len(texts)}\")\n",
    "    tasks = [\n",
    "        asyncio.create_task(construction_chain.ainvoke({\"input\":chunk_text}))\n",
    "        for index, chunk_text in enumerate(texts)\n",
    "    ]\n",
    "    results = await asyncio.gather(*tasks)\n",
    "    print(f\"Finished LLM extraction after: {datetime.now() - start}\")\n",
    "    docs = [el.dict() for el in results]\n",
    "    for index, doc in enumerate(docs):\n",
    "        doc['chunk_id'] = encode_md5(texts[index])\n",
    "        doc['chunk_text'] = texts[index]\n",
    "        doc['index'] = index\n",
    "        for af in doc[\"atomic_facts\"]:\n",
    "            af[\"id\"] = encode_md5(af[\"atomic_fact\"])\n",
    "\n",
    "    graph.query(import_query, \n",
    "            params={\"data\": docs, \"document_name\": document_name})\n",
    "    graph.query(\"\"\"MATCH (c:Chunk)<-[:HAS_CHUNK]-(d:Document)\n",
    "WHERE d.id = $document_name\n",
    "WITH c ORDER BY c.index WITH collect(c) AS nodes\n",
    "UNWIND range(0, size(nodes) -2) AS index\n",
    "WITH nodes[index] AS start, nodes[index + 1] AS end\n",
    "MERGE (start)-[:NEXT]->(end)\n",
    "\"\"\",\n",
    "           params={\"document_name\":document_name})\n",
    "    print(f\"Finished import at: {datetime.now() - start}\")"
   ]
  },
  {
   "cell_type": "code",
   "execution_count": 15,
   "metadata": {},
   "outputs": [
    {
     "name": "stdout",
     "output_type": "stream",
     "text": [
      "Started extraction at: 2024-10-12 23:55:45.427900\n",
      "Total text chunks: 3\n",
      "Finished LLM extraction after: 0:00:03.837072\n",
      "Finished import at: 0:00:04.950085\n"
     ]
    }
   ],
   "source": [
    "await process_document(whole_text, \"Apple\", chunk_size=700, chunk_overlap=100)"
   ]
  },
  {
   "cell_type": "code",
   "execution_count": 16,
   "metadata": {},
   "outputs": [
    {
     "name": "stdout",
     "output_type": "stream",
     "text": [
      "Atomic Fact: Moody's downgraded Belgium's credit rating outlook to negative due to concerns over its deficit trajectory and political uncertainty.\n",
      "Atomic Fact: Fitch placed France on a negative outlook on October 11th, citing fiscal policy risks and increased fiscal slippage.\n",
      "Atomic Fact: Cheese prices surged by 7.30% and 7.49% in the last 24 hours.\n",
      "Atomic Fact: Orange juice and cocoa prices also rose.\n",
      "Atomic Fact: Natural gas prices dropped by 1.76% and 1.38% in the last 24 hours.\n",
      "Atomic Fact: Oil prices fell slightly.\n",
      "Atomic Fact: Copper prices rose by 1.39% and 1.34% in the last 24 hours.\n",
      "Atomic Fact: US stocks rallied on Friday, with the S&P 500 and Dow Jones hitting new highs.\n",
      "Atomic Fact: Canadian stocks closed higher on Friday, with the S&P/TSX Composite Index adding 0.7%.\n",
      "Atomic Fact: European stocks, such as the IBEX 35 and CAC 40, also rose.\n"
     ]
    }
   ],
   "source": [
    "query = \"\"\"\n",
    "MATCH (af:AtomicFact)\n",
    "RETURN af.text LIMIT 10\n",
    "\"\"\"\n",
    "results = graph.query(query)\n",
    "for record in results:\n",
    "    print(f\"Atomic Fact: {record['af.text']}\")"
   ]
  },
  {
   "cell_type": "code",
   "execution_count": 17,
   "metadata": {},
   "outputs": [
    {
     "name": "stdout",
     "output_type": "stream",
     "text": [
      "Key Element ID: Moody's\n",
      "Key Element ID: Belgium\n",
      "Key Element ID: credit rating outlook\n",
      "Key Element ID: negative\n",
      "Key Element ID: deficit trajectory\n",
      "Key Element ID: political uncertainty\n",
      "Key Element ID: Fitch\n",
      "Key Element ID: France\n",
      "Key Element ID: negative outlook\n",
      "Key Element ID: October 11th\n"
     ]
    }
   ],
   "source": [
    "query = \"\"\"\n",
    "MATCH (k:KeyElement)\n",
    "RETURN k.id LIMIT 10\n",
    "\"\"\"\n",
    "results = graph.query(query)\n",
    "for record in results:\n",
    "    print(f\"Key Element ID: {record['k.id']}\")"
   ]
  },
  {
   "cell_type": "code",
   "execution_count": 18,
   "metadata": {},
   "outputs": [],
   "source": [
    "keyword = \"Random\"\n",
    "query = \"\"\"\n",
    "MATCH (k:KeyElement)<-[:HAS_KEY_ELEMENT]-(af:AtomicFact)\n",
    "WHERE toLower(k.id) CONTAINS toLower($keyword)\n",
    "RETURN k.id AS key_element, af.text AS atomic_fact\n",
    "LIMIT 10\n",
    "\"\"\"\n",
    "results = graph.query(query, {\"keyword\": keyword})\n",
    "for record in results:\n",
    "    print(f\"Key Element: {record['key_element']}, Atomic Fact: {record['atomic_fact']}\")\n"
   ]
  }
 ],
 "metadata": {
  "kernelspec": {
   "display_name": "breakout",
   "language": "python",
   "name": "python3"
  },
  "language_info": {
   "codemirror_mode": {
    "name": "ipython",
    "version": 3
   },
   "file_extension": ".py",
   "mimetype": "text/x-python",
   "name": "python",
   "nbconvert_exporter": "python",
   "pygments_lexer": "ipython3",
   "version": "3.12.7"
  }
 },
 "nbformat": 4,
 "nbformat_minor": 2
}
