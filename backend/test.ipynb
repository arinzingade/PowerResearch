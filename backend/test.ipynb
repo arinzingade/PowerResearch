{
 "cells": [
  {
   "cell_type": "markdown",
   "metadata": {},
   "source": [
    "### Imports"
   ]
  },
  {
   "cell_type": "code",
   "execution_count": 1,
   "metadata": {},
   "outputs": [],
   "source": [
    "from googlesearch import search\n",
    "import yfinance as yf\n",
    "import os\n",
    "from langchain.prompts import ChatPromptTemplate\n",
    "\n",
    "import asyncio\n",
    "import getpass\n",
    "import os\n",
    "from datetime import datetime\n",
    "from hashlib import md5\n",
    "from typing import Dict, List\n",
    "\n",
    "import pandas as pd\n",
    "import tiktoken\n",
    "from langchain_community.graphs import Neo4jGraph\n",
    "from langchain_community.tools import WikipediaQueryRun\n",
    "from langchain_community.utilities import WikipediaAPIWrapper\n",
    "from langchain_core.prompts import ChatPromptTemplate\n",
    "from langchain_openai import ChatOpenAI\n",
    "from langchain_text_splitters import TokenTextSplitter\n",
    "from pydantic import BaseModel, Field\n",
    "\n",
    "from datetime import datetime"
   ]
  },
  {
   "cell_type": "markdown",
   "metadata": {},
   "source": [
    "### Web Scraping"
   ]
  },
  {
   "cell_type": "markdown",
   "metadata": {},
   "source": [
    "Financials - Yahoo Finance"
   ]
  },
  {
   "cell_type": "code",
   "execution_count": 2,
   "metadata": {},
   "outputs": [],
   "source": [
    "ticker = input(\"What is the Ticker of the Stock?: \")\n",
    "\n",
    "stock_ticker = yf.Ticker(ticker)\n",
    "df_balancesheet = stock_ticker.balance_sheet\n",
    "balance_sheet_json = df_balancesheet.to_json()\n",
    "\n",
    "df_incomestmt = stock_ticker.income_stmt\n",
    "incomestmt_json = df_incomestmt.to_json()\n",
    "\n",
    "df_cashflow = stock_ticker.cash_flow\n",
    "cashflow_json = df_cashflow.to_json()\n"
   ]
  },
  {
   "cell_type": "markdown",
   "metadata": {},
   "source": [
    "Latest News - GoogleSearch, Latest Filings"
   ]
  },
  {
   "cell_type": "code",
   "execution_count": 3,
   "metadata": {},
   "outputs": [],
   "source": [
    "stock_name = input(\"Enter the Stock Name: \")\n",
    "def get_top_links(query, num_results=1):\n",
    "    top_10_links = []\n",
    "    search_results = search(query, num_results=num_results)\n",
    "    \n",
    "    for idx, result in enumerate(search_results, start=1):\n",
    "        top_10_links.append(result)\n",
    "    \n",
    "    return top_10_links\n",
    "\n",
    "search_news = stock_name + \"latest stock news\"\n",
    "search_latest_opinion = stock_name + \"latest financial analysis\"\n",
    "global_financial_news = \"Latest News Financial Markets International\"\n",
    "latest_filings = stock_name + \"Latest Legal Filings / Reporting\"\n",
    "\n",
    "top_10_news_links = get_top_links(search_news)\n",
    "top_10_blogs_links = get_top_links(search_latest_opinion)\n",
    "top_10_global_links = get_top_links(global_financial_news)\n",
    "top_10_filings_links =  get_top_links(latest_filings)\n",
    "top_10_news_links.append('https://tradingeconomics.com/stream')\n",
    "\n",
    "all_links_combined = (\n",
    "    top_10_news_links + \n",
    "    top_10_blogs_links + \n",
    "    top_10_global_links + \n",
    "    top_10_filings_links\n",
    ")"
   ]
  },
  {
   "cell_type": "code",
   "execution_count": 18,
   "metadata": {},
   "outputs": [
    {
     "data": {
      "text/plain": [
       "['https://www.moneycontrol.com/india/stockpricequote/it-servicesconsulting/varaniumcloud/VC10',\n",
       " 'https://tradingeconomics.com/stream',\n",
       " 'https://www.tofler.in/cloudraft-technologies-private-limited/company/U72200MP2022PTC063851',\n",
       " 'https://www.reuters.com/markets/',\n",
       " 'https://support.google.com/legal/troubleshooter/1114905?hl=en']"
      ]
     },
     "execution_count": 18,
     "metadata": {},
     "output_type": "execute_result"
    }
   ],
   "source": [
    "all_links_combined"
   ]
  },
  {
   "cell_type": "markdown",
   "metadata": {},
   "source": [
    "Extracting Useful Text From Raw Scraped Text"
   ]
  },
  {
   "cell_type": "code",
   "execution_count": 4,
   "metadata": {},
   "outputs": [],
   "source": [
    "from groq import Groq\n",
    "client = Groq(\n",
    "    api_key= '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',\n",
    ")\n",
    "\n",
    "PROMPT_TEMPLATE = \"\"\"\n",
    "Prompt: Extract only the useful information from the below text, \n",
    "Do not Include Links, Always include plain text full of useful maximum impact information in concise manner.\n",
    "{context}\n",
    "\"\"\"\n",
    "\n",
    "def call_groq(scraped_text_chunk):\n",
    "    chat_completion = client.chat.completions.create(\n",
    "    messages=[\n",
    "            {\n",
    "                \"role\": \"user\",\n",
    "                \"content\": scraped_text_chunk,\n",
    "            }\n",
    "        ],\n",
    "        model=\"llama3-8b-8192\",\n",
    "    )\n",
    "    return chat_completion.choices[0].message.content"
   ]
  },
  {
   "cell_type": "markdown",
   "metadata": {},
   "source": [
    "Passing it through a Web Scraper to Extract Text"
   ]
  },
  {
   "cell_type": "code",
   "execution_count": 5,
   "metadata": {},
   "outputs": [
    {
     "name": "stdout",
     "output_type": "stream",
     "text": [
      "An unexpected error occurred for https://www.moneycontrol.com/india/stockpricequote/it-servicesconsulting/varaniumcloud/VC10: Error code: 400 - {'error': {'message': 'Please reduce the length of the messages or completion.', 'type': 'invalid_request_error', 'param': 'messages', 'code': 'context_length_exceeded'}}. Skipping...\n",
      "Here are the useful information in concise manner:\n",
      "\n",
      "**Economy and Credit Rating**\n",
      "\n",
      "* Moody's downgraded Belgium's credit rating outlook to negative due to concerns over its deficit trajectory and political uncertainty.\n",
      "* Fitch placed France on a negative outlook on October 11th, citing fiscal policy risks and increased fiscal slippage.\n",
      "\n",
      "**Commodities**\n",
      "\n",
      "* Agricultural commodities:\n",
      "\t+ Cheese prices surged by 7.30% and 7.49% in the last 24 hours.\n",
      "\t+ Orange juice and cocoa prices also rose.\n",
      "* Energy commodities:\n",
      "\t+ Natural gas prices dropped by 1.76% and 1.38% in the last 24 hours.\n",
      "\t+ Oil prices fell slightly.\n",
      "* Metals:\n",
      "\t+ Copper prices rose by 1.39% and 1.34% in the last 24 hours.\n",
      "\n",
      "**Stocks and Markets**\n",
      "\n",
      "* US stocks rallied on Friday, with the S&P 500 and Dow Jones hitting new highs.\n",
      "* Canadian stocks closed higher on Friday, with the S&P/TSX Composite Index adding 0.7%.\n",
      "* European stocks, such as the IBEX 35 and CAC 40, also rose.\n",
      "* Brazilian stocks ended the week lower, with the Ibovespa experiencing a 1.5% drop.\n",
      "\n",
      "**Crypto and Currency**\n",
      "\n",
      "* Bitcoin and Ether prices rose in the last 24 hours.\n",
      "* The Mexican Peso appreciated by 0.89%, while the Brazilian Real and Japanese Yen declined.\n",
      "\n",
      "**Inflation and Interest Rates**\n",
      "\n",
      "* Russian inflation rate slowed less than expected to 8.6% in September.\n",
      "* The US inflation rate is expected to remain elevated, with the PPI data for September showing a 0.4% increase.\n",
      "\n",
      "Please note that this summary only includes the most relevant information and excludes links and unnecessary details.\n",
      "Here is the extracted information in plain text format, without links or images:\n",
      "\n",
      "**Company Information**\n",
      "\n",
      "* Company Name: Cloudraft Technologies Private Limited\n",
      "* Classification: Private Limited Company\n",
      "* Status: Active\n",
      "* Incorporated on: 16 December, 2022\n",
      "* Registered Address: 39-A, Krishi Vihar Colony, Tilaknagar, Indore, Madhya Pradesh, India\n",
      "\n",
      "**Authorized and Paid-up Capital**\n",
      "\n",
      "* Authorized Capital: INR 15.00 lac\n",
      "* Paid-up Capital: INR 1.00 lac\n",
      "\n",
      "**Directors**\n",
      "\n",
      "* Anjul Sahu (Director)\n",
      "* Reena Sahu (Director)\n",
      "\n",
      "**CIN and Registered Office**\n",
      "\n",
      "* CIN: U72200MP2022PTC063851\n",
      "* Registered Office: 39-A, Krishi Vihar Colony, Tilaknagar, Indore, Madhya Pradesh, India\n",
      "\n",
      "**Financial Information**\n",
      "\n",
      "* No financial reports available\n",
      "\n",
      "**Similar Companies**\n",
      "\n",
      "* Neonage Solutions Private Limited\n",
      "* Imokshum Technology Private Limited\n",
      "* Xinitec Technologies Private Limited\n",
      "* ... and more\n",
      "\n",
      "**Company Network**\n",
      "\n",
      "* No subsidiary companies found\n",
      "* Company network feature available on Tofler's Company360 platform\n",
      "\n",
      "**FAQ**\n",
      "\n",
      "* What is the incorporation date of Cloudraft Technologies Private Limited?\n",
      "    16 December, 2022\n",
      "* What is the authorized share capital of Cloudraft Technologies Private Limited?\n",
      "    INR 15.0 Lacs\n",
      "* What is the paid-up capital of Cloudraft Technologies Private Limited?\n",
      "    INR 1.0 Lacs\n",
      "* ... and more\n",
      "\n",
      "Note that the financial information and similar companies listed are not available as Tofler does not have the necessary information.\n",
      "Here is the extracted and formatted in plain text:\n",
      "\n",
      "**Markets:**\n",
      "\n",
      "* S&P 500: +0.61% at 5,815.03\n",
      "* Dow: +0.97% at 42,863.86\n",
      "* Nasdaq: +0.33% at 18,342.94\n",
      "* FTSE 100: +0.19% at 8,253.65\n",
      "* Nikkei 225: +0.57% at 39,605.80\n",
      "* Comex gold: +1.31% at 2,655.00\n",
      "\n",
      "**News:**\n",
      "\n",
      "* Maldives chooses U.S.-headquartered Centerview Partners as its adviser on debt matters.\n",
      "* Japan's PM says he won't intervene in BoJ's rate policy.\n",
      "* China unveils fiscal stimulus measures to revive growth.\n",
      "* Russia tells exporters not to sell wheat at below $250 level at tenders.\n",
      "\n",
      "**Deals:**\n",
      "\n",
      "* Rio Tinto's real prize: Arcadium's lithium extraction technology.\n",
      "* Tetragon in talks over possible sale of Equitix.\n",
      "\n",
      "**Currencies:**\n",
      "\n",
      "* EUR/USD: +0.01% at 1.0937\n",
      "* GBP/USD: +0.05% at 1.3066\n",
      "* JPY/USD: -0.39% at 0.0067\n",
      "* CNY/USD: +0.18% at 0.1415\n",
      "\n",
      "**Stocks:**\n",
      "\n",
      "* Sunresin New Materials Co Ltd: -2.29% at 52.99\n",
      "* Arcadium Lithium PLC: +0.54250% at 5.56\n",
      "* Chevron Corp: +0.53114% at 151.42\n",
      "An unexpected error occurred for https://support.google.com/legal/troubleshooter/1114905?hl=en: Error code: 400 - {'error': {'message': 'Please reduce the length of the messages or completion.', 'type': 'invalid_request_error', 'param': 'messages', 'code': 'context_length_exceeded'}}. Skipping...\n"
     ]
    }
   ],
   "source": [
    "from firecrawl import FirecrawlApp\n",
    "import requests \n",
    "\n",
    "app = FirecrawlApp(api_key=\"fc-23cb2edcab4e4ba7a0221dfdd5ef4883\")\n",
    "useful_text = []\n",
    "\n",
    "def chunk_text(text, size=50000):\n",
    "    return [text[i:i + size] for i in range(0, len(text), size)]\n",
    "\n",
    "for link in all_links_combined:\n",
    "    try:\n",
    "        scrape_result = app.scrape_url(link, params={'formats': ['markdown', 'html']})\n",
    "        large_text = scrape_result['markdown']\n",
    "        chunked_text = chunk_text(large_text)\n",
    "\n",
    "        for chunk in chunked_text:\n",
    "            prompt_template = ChatPromptTemplate.from_template(PROMPT_TEMPLATE)\n",
    "            prompt = prompt_template.format(context=chunk)\n",
    "            response_text = call_groq(prompt)\n",
    "\n",
    "            useful_text.append(response_text)\n",
    "            print(response_text)\n",
    "    \n",
    "    except requests.exceptions.HTTPError as e:\n",
    "        print(f\"Request failed for {link}: {e}. Skipping...\")\n",
    "        continue  \n",
    "    except Exception as e:\n",
    "        print(f\"An unexpected error occurred for {link}: {e}. Skipping...\")\n",
    "        continue  "
   ]
  },
  {
   "cell_type": "code",
   "execution_count": 6,
   "metadata": {},
   "outputs": [],
   "source": [
    "whole_text = \"\"\n",
    "for text in useful_text:\n",
    "    whole_text += text"
   ]
  },
  {
   "cell_type": "markdown",
   "metadata": {},
   "source": [
    "Input the Useful Scraped Data Into Neo4j"
   ]
  },
  {
   "cell_type": "code",
   "execution_count": 7,
   "metadata": {},
   "outputs": [],
   "source": [
    "useful_text_list = chunk_text(whole_text)"
   ]
  },
  {
   "cell_type": "code",
   "execution_count": 8,
   "metadata": {},
   "outputs": [
    {
     "data": {
      "text/plain": [
       "[]"
      ]
     },
     "execution_count": 8,
     "metadata": {},
     "output_type": "execute_result"
    }
   ],
   "source": [
    "from langchain_community.graphs import Neo4jGraph\n",
    "\n",
    "os.environ[\"NEO4J_URI\"] = \"neo4j+s://0de88855.databases.neo4j.io:7687\"\n",
    "os.environ[\"NEO4J_USERNAME\"] = \"neo4j\"\n",
    "os.environ[\"NEO4J_PASSWORD\"] = \"VvHhsur-pTOfen4lYtsCjaAg6Kovq0a1CjJ34G543Xs\"\n",
    "\n",
    "## Bh75snEPQV6s8St1BbjMWjHX7R9VdnSobxpWnzgY350\n",
    "\n",
    "graph = Neo4jGraph(refresh_schema=False)\n",
    "\n",
    "graph.query(\"CREATE CONSTRAINT IF NOT EXISTS FOR (c:Chunk) REQUIRE c.id IS UNIQUE\")\n",
    "graph.query(\"CREATE CONSTRAINT IF NOT EXISTS FOR (c:AtomicFact) REQUIRE c.id IS UNIQUE\")\n",
    "graph.query(\"CREATE CONSTRAINT IF NOT EXISTS FOR (c:KeyElement) REQUIRE c.id IS UNIQUE\")\n",
    "graph.query(\"CREATE CONSTRAINT IF NOT EXISTS FOR (d:Document) REQUIRE d.id IS UNIQUE\")"
   ]
  },
  {
   "cell_type": "code",
   "execution_count": 9,
   "metadata": {},
   "outputs": [],
   "source": [
    "construction_system = \"\"\"\n",
    "You are now an intelligent assistant tasked with meticulously extracting both key elements and\n",
    "atomic facts from a long text.\n",
    "1. Key Elements: The essential nouns (e.g., characters, times, events, places, numbers), verbs (e.g.,\n",
    "actions), and adjectives (e.g., states, feelings) that are pivotal to the text’s narrative.\n",
    "2. Atomic Facts: The smallest, indivisible facts, presented as concise sentences. These include\n",
    "propositions, theories, existences, concepts, and implicit elements like logic, causality, event\n",
    "sequences, interpersonal relationships, timelines, etc.\n",
    "Requirements:\n",
    "#####\n",
    "1. Ensure that all identified key elements are reflected within the corresponding atomic facts.\n",
    "2. You should extract key elements and atomic facts comprehensively, especially those that are\n",
    "important and potentially query-worthy and do not leave out details.\n",
    "3. Whenever applicable, replace pronouns with their specific noun counterparts (e.g., change I, He,\n",
    "She to actual names).\n",
    "4. Ensure that the key elements and atomic facts you extract are presented in the same language as\n",
    "the original text (e.g., English or Chinese).\n",
    "\"\"\"\n",
    "\n",
    "construction_human = \"\"\"Use the given format to extract information from the \n",
    "following input: {input}\"\"\"\n",
    "\n",
    "construction_prompt = ChatPromptTemplate.from_messages(\n",
    "    [\n",
    "        (\n",
    "            \"system\",\n",
    "            construction_system,\n",
    "        ),\n",
    "        (\n",
    "            \"human\",\n",
    "            (\n",
    "                \"Use the given format to extract information from the \"\n",
    "                \"following input: {input}\"\n",
    "            ),\n",
    "        ),\n",
    "    ]\n",
    ")"
   ]
  },
  {
   "cell_type": "code",
   "execution_count": 10,
   "metadata": {},
   "outputs": [],
   "source": [
    "class AtomicFact(BaseModel):\n",
    "    key_elements: List[str] = Field(description=\"\"\"The essential nouns (e.g., characters, times, events, places, numbers), verbs (e.g.,\n",
    "actions), and adjectives (e.g., states, feelings) that are pivotal to the atomic fact's narrative.\"\"\")\n",
    "    atomic_fact: str = Field(description=\"\"\"The smallest, indivisible facts, presented as concise sentences. These include\n",
    "propositions, theories, existences, concepts, and implicit elements like logic, causality, event\n",
    "sequences, interpersonal relationships, timelines, etc.\"\"\")\n",
    "\n",
    "class Extraction(BaseModel):\n",
    "    atomic_facts: List[AtomicFact] = Field(description=\"List of atomic facts\")"
   ]
  },
  {
   "cell_type": "code",
   "execution_count": 11,
   "metadata": {},
   "outputs": [],
   "source": [
    "from langchain_groq import ChatGroq\n",
    "os.environ[\"GROQ_API_KEY\"] = \"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\"\n",
    "model = ChatGroq(model=\"gemma2-9b-it\", temperature=0.1)\n",
    "structured_llm = model.with_structured_output(Extraction)\n",
    "\n",
    "construction_chain = construction_prompt | structured_llm"
   ]
  },
  {
   "cell_type": "code",
   "execution_count": 12,
   "metadata": {},
   "outputs": [],
   "source": [
    "import_query = \"\"\"\n",
    "MERGE (d:Document {id:$document_name})\n",
    "WITH d\n",
    "UNWIND $data AS row\n",
    "MERGE (c:Chunk {id: row.chunk_id})\n",
    "SET c.text = row.chunk_text,\n",
    "    c.index = row.index,\n",
    "    c.document_name = row.document_name\n",
    "MERGE (d)-[:HAS_CHUNK]->(c)\n",
    "WITH c, row\n",
    "UNWIND row.atomic_facts AS af\n",
    "MERGE (a:AtomicFact {id: af.id})\n",
    "SET a.text = af.atomic_fact\n",
    "MERGE (c)-[:HAS_ATOMIC_FACT]->(a)\n",
    "WITH c, a, af\n",
    "UNWIND af.key_elements AS ke\n",
    "MERGE (k:KeyElement {id: ke})\n",
    "MERGE (a)-[:HAS_KEY_ELEMENT]->(k)\n",
    "\"\"\"\n",
    "\n",
    "def encode_md5(text):\n",
    "    return md5(text.encode(\"utf-8\")).hexdigest()"
   ]
  },
  {
   "cell_type": "code",
   "execution_count": 13,
   "metadata": {},
   "outputs": [],
   "source": [
    "async def process_document(text, document_name, chunk_size=1000, chunk_overlap=200):\n",
    "    start = datetime.now()\n",
    "    print(f\"Started extraction at: {start}\")\n",
    "    text_splitter = TokenTextSplitter(chunk_size=chunk_size, chunk_overlap=chunk_overlap)\n",
    "    texts = text_splitter.split_text(text)\n",
    "    print(f\"Total text chunks: {len(texts)}\")\n",
    "    tasks = [\n",
    "        asyncio.create_task(construction_chain.ainvoke({\"input\":chunk_text}))\n",
    "        for index, chunk_text in enumerate(texts)\n",
    "    ]\n",
    "    results = await asyncio.gather(*tasks)\n",
    "    print(f\"Finished LLM extraction after: {datetime.now() - start}\")\n",
    "    docs = [el.dict() for el in results]\n",
    "    for index, doc in enumerate(docs):\n",
    "        doc['chunk_id'] = encode_md5(texts[index])\n",
    "        doc['chunk_text'] = texts[index]\n",
    "        doc['index'] = index\n",
    "        for af in doc[\"atomic_facts\"]:\n",
    "            af[\"id\"] = encode_md5(af[\"atomic_fact\"])\n",
    "\n",
    "    graph.query(import_query, \n",
    "            params={\"data\": docs, \"document_name\": document_name})\n",
    "    graph.query(\"\"\"MATCH (c:Chunk)<-[:HAS_CHUNK]-(d:Document)\n",
    "WHERE d.id = $document_name\n",
    "WITH c ORDER BY c.index WITH collect(c) AS nodes\n",
    "UNWIND range(0, size(nodes) -2) AS index\n",
    "WITH nodes[index] AS start, nodes[index + 1] AS end\n",
    "MERGE (start)-[:NEXT]->(end)\n",
    "\"\"\",\n",
    "           params={\"document_name\":document_name})\n",
    "    print(f\"Finished import at: {datetime.now() - start}\")"
   ]
  },
  {
   "cell_type": "code",
   "execution_count": 14,
   "metadata": {},
   "outputs": [
    {
     "name": "stdout",
     "output_type": "stream",
     "text": [
      "Started extraction at: 2024-10-12 22:47:29.247946\n",
      "Total text chunks: 2\n",
      "Finished LLM extraction after: 0:00:04.411894\n",
      "Finished import at: 0:00:05.123528\n"
     ]
    }
   ],
   "source": [
    "await process_document(whole_text, \"Apple\", chunk_size=700, chunk_overlap=100)"
   ]
  },
  {
   "cell_type": "code",
   "execution_count": 15,
   "metadata": {},
   "outputs": [
    {
     "name": "stdout",
     "output_type": "stream",
     "text": [
      "Atomic Fact: Moody's downgraded Belgium's credit rating outlook to negative due to concerns over its deficit trajectory and political uncertainty.\n",
      "Atomic Fact: Fitch placed France on a negative outlook on October 11th, citing fiscal policy risks and increased fiscal slippage.\n",
      "Atomic Fact: Cheese prices surged by 7.30% and 7.49% in the last 24 hours.\n",
      "Atomic Fact: Orange juice and cocoa prices also rose.\n",
      "Atomic Fact: Natural gas prices dropped by 1.76% and 1.38% in the last 24 hours.\n",
      "Atomic Fact: Oil prices fell slightly.\n",
      "Atomic Fact: Copper prices rose by 1.39% and 1.34% in the last 24 hours.\n",
      "Atomic Fact: US stocks rallied on Friday, with the S&P 500 and Dow Jones hitting new highs.\n",
      "Atomic Fact: Canadian stocks closed higher on Friday, with the S&P/TSX Composite Index adding 0.7%.\n",
      "Atomic Fact: European stocks, such as the IBEX 35 and CAC 40, also rose.\n"
     ]
    }
   ],
   "source": [
    "query = \"\"\"\n",
    "MATCH (af:AtomicFact)\n",
    "RETURN af.text LIMIT 10\n",
    "\"\"\"\n",
    "results = graph.query(query)\n",
    "for record in results:\n",
    "    print(f\"Atomic Fact: {record['af.text']}\")"
   ]
  },
  {
   "cell_type": "code",
   "execution_count": 16,
   "metadata": {},
   "outputs": [
    {
     "name": "stdout",
     "output_type": "stream",
     "text": [
      "Key Element ID: Moody's\n",
      "Key Element ID: Belgium\n",
      "Key Element ID: credit rating outlook\n",
      "Key Element ID: negative\n",
      "Key Element ID: deficit trajectory\n",
      "Key Element ID: political uncertainty\n",
      "Key Element ID: Fitch\n",
      "Key Element ID: France\n",
      "Key Element ID: negative outlook\n",
      "Key Element ID: October 11th\n"
     ]
    }
   ],
   "source": [
    "query = \"\"\"\n",
    "MATCH (k:KeyElement)\n",
    "RETURN k.id LIMIT 10\n",
    "\"\"\"\n",
    "results = graph.query(query)\n",
    "for record in results:\n",
    "    print(f\"Key Element ID: {record['k.id']}\")"
   ]
  },
  {
   "cell_type": "code",
   "execution_count": 17,
   "metadata": {},
   "outputs": [],
   "source": [
    "keyword = \"Random\"\n",
    "query = \"\"\"\n",
    "MATCH (k:KeyElement)<-[:HAS_KEY_ELEMENT]-(af:AtomicFact)\n",
    "WHERE toLower(k.id) CONTAINS toLower($keyword)\n",
    "RETURN k.id AS key_element, af.text AS atomic_fact\n",
    "LIMIT 10\n",
    "\"\"\"\n",
    "results = graph.query(query, {\"keyword\": keyword})\n",
    "for record in results:\n",
    "    print(f\"Key Element: {record['key_element']}, Atomic Fact: {record['atomic_fact']}\")\n"
   ]
  }
 ],
 "metadata": {
  "kernelspec": {
   "display_name": "breakout",
   "language": "python",
   "name": "python3"
  },
  "language_info": {
   "codemirror_mode": {
    "name": "ipython",
    "version": 3
   },
   "file_extension": ".py",
   "mimetype": "text/x-python",
   "name": "python",
   "nbconvert_exporter": "python",
   "pygments_lexer": "ipython3",
   "version": "3.12.7"
  }
 },
 "nbformat": 4,
 "nbformat_minor": 2
}
